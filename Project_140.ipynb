{
  "nbformat": 4,
  "nbformat_minor": 2,
  "metadata": {
    "colab": {
      "name": "Project 138,139,140",
      "provenance": [],
      "collapsed_sections": []
    },
    "kernelspec": {
      "name": "python3",
      "display_name": "Python 3"
    },
    "language_info": {
      "name": "python"
    }
  },
  "cells": [
    {
      "cell_type": "code",
      "execution_count": null,
      "source": [
        "!pip install kaggle"
      ],
      "outputs": [],
      "metadata": {
        "id": "u1Bkn2GohGAB"
      }
    },
    {
      "cell_type": "code",
      "execution_count": null,
      "source": [
        "from google.colab import files\r\n",
        "files.upload()"
      ],
      "outputs": [],
      "metadata": {
        "id": "ENkvPYjphWIj"
      }
    },
    {
      "cell_type": "code",
      "execution_count": null,
      "source": [
        "!mkdir -p ~/.kaggle\r\n",
        "!cp kaggle.json ~/.kaggle/\r\n",
        "\r\n",
        "!chmod 600 ~/.kaggle/kaggle.json"
      ],
      "outputs": [],
      "metadata": {
        "id": "sdXweEq4hbGv"
      }
    },
    {
      "cell_type": "code",
      "execution_count": null,
      "source": [
        "!kaggle datasets download -d gspmoreira/articles-sharing-reading-from-cit-deskdrop"
      ],
      "outputs": [],
      "metadata": {
        "id": "QXYlOMhqO-lK"
      }
    },
    {
      "cell_type": "code",
      "execution_count": null,
      "source": [
        "!ls"
      ],
      "outputs": [],
      "metadata": {
        "id": "2a5w2CPliY6m"
      }
    },
    {
      "cell_type": "code",
      "execution_count": null,
      "source": [
        "!unzip articles-sharing-reading-from-cit-deskdrop.zip"
      ],
      "outputs": [],
      "metadata": {
        "id": "pVmDN1O5hcoW"
      }
    },
    {
      "cell_type": "code",
      "execution_count": null,
      "source": [
        "!ls"
      ],
      "outputs": [],
      "metadata": {
        "id": "xhbjOr89i7Dz"
      }
    },
    {
      "cell_type": "code",
      "execution_count": null,
      "source": [
        "import pandas as pd\r\n",
        "import numpy as np\r\n",
        "\r\n",
        "df1 = pd.read_csv(\"shared_articles.csv\")\r\n",
        "df2 = pd.read_csv(\"users_interactions.csv\")\r\n"
      ],
      "outputs": [],
      "metadata": {
        "id": "B7tGhs1ii-DX"
      }
    },
    {
      "cell_type": "code",
      "execution_count": null,
      "source": [
        "df1.head()"
      ],
      "outputs": [],
      "metadata": {
        "id": "zcmOFTuOkFBk"
      }
    },
    {
      "cell_type": "code",
      "execution_count": null,
      "source": [
        "df2.head()"
      ],
      "outputs": [],
      "metadata": {
        "id": "8ItNpeVakHJs"
      }
    },
    {
      "cell_type": "code",
      "execution_count": null,
      "source": [
        "#removing content removed\r\n",
        "df1 = df1[df1['eventType'] == 'CONTENT SHARED']\r\n",
        "df1.head()\r\n",
        "df1.shape\r\n",
        "df2.shape"
      ],
      "outputs": [],
      "metadata": {
        "id": "KbqdnvFFWtXy"
      }
    },
    {
      "cell_type": "code",
      "execution_count": null,
      "source": [
        "def find_total_events(df1_row):\r\n",
        "  total_likes = df2[(df2[\"contentId\"] == df1_row[\"contentId\"]) & (df2[\"eventType\"] == \"LIKE\")].shape[0]\r\n",
        "  total_views = df2[(df2[\"contentId\"] == df1_row[\"contentId\"]) & (df2[\"eventType\"] == \"VIEW\")].shape[0]\r\n",
        "  total_bookmarks = df2[(df2[\"contentId\"] == df1_row[\"contentId\"]) & (df2[\"eventType\"] == \"BOOKMARK\")].shape[0]\r\n",
        "  total_follows = df2[(df2[\"contentId\"] == df1_row[\"contentId\"]) & (df2[\"eventType\"] == \"FOLLOW\")].shape[0]\r\n",
        "  total_comments = df2[(df2[\"contentId\"] == df1_row[\"contentId\"]) & (df2[\"eventType\"] == \"COMMENT CREATED\")].shape[0]\r\n",
        "  return total_likes + total_views + total_bookmarks + total_follows + total_comments\r\n",
        "\r\n",
        "df1[\"total_events\"] = df1.apply(find_total_events, axis=1)\r\n",
        "\r\n",
        "df1.head()"
      ],
      "outputs": [],
      "metadata": {
        "id": "UM6Zh0K3XT5o"
      }
    },
    {
      "cell_type": "code",
      "execution_count": null,
      "source": [
        "df1 = df1.sort_values(['total_events'], ascending=[False])\r\n",
        "\r\n",
        "df1.head()"
      ],
      "outputs": [],
      "metadata": {
        "id": "677Spbf6ZiSi"
      }
    },
    {
      "cell_type": "code",
      "execution_count": null,
      "source": [
        "def convert_lowerCase(x):\r\n",
        "  if isinstance(x, list):\r\n",
        "        return x.lower()\r\n",
        "  else:\r\n",
        "    return ''\r\n",
        "\r\n",
        "df1[\"title\"] = df1[\"title\"].apply(convert_lowerCase)\r\n",
        "df1.head()"
      ],
      "outputs": [],
      "metadata": {
        "id": "Sv1R2fHJaWC1"
      }
    },
    {
      "cell_type": "code",
      "execution_count": null,
      "source": [
        "from sklearn.feature_extraction.text import CountVectorizer\r\n",
        "count = CountVectorizer(stop_words='english')\r\n",
        "count_matrix = count.fit_transform(df1['title'])"
      ],
      "outputs": [],
      "metadata": {
        "id": "anF_RyGp46pl"
      }
    },
    {
      "cell_type": "code",
      "execution_count": null,
      "source": [
        "from sklearn.metrics.pairwise import cosine_similarity\r\n",
        "cosine_sim2 = cosine_similarity(count_matrix, count_matrix)"
      ],
      "outputs": [],
      "metadata": {
        "id": "2bPWA3-rc9wj"
      }
    },
    {
      "cell_type": "code",
      "execution_count": null,
      "source": [
        "df1 = df1.reset_index()\r\n",
        "indices = pd.Series(df1.index, index=df1['contentId'])"
      ],
      "outputs": [],
      "metadata": {
        "id": "CSwouu1udISs"
      }
    },
    {
      "cell_type": "code",
      "execution_count": null,
      "source": [
        "def get_recommendations(contentId, cosine_sim):\r\n",
        "    idx = indices[contentId]\r\n",
        "    sim_scores = list(enumerate(cosine_sim[idx]))\r\n",
        "    sim_scores = sorted(sim_scores, key=lambda x: x[1], reverse=True)\r\n",
        "    sim_scores = sim_scores[1:11]\r\n",
        "    movie_indices = [i[0] for i in sim_scores]\r\n",
        "    return df1['contentId'].iloc[movie_indices]"
      ],
      "outputs": [],
      "metadata": {
        "id": "4i9OLbksdd4H"
      }
    },
    {
      "cell_type": "code",
      "execution_count": null,
      "source": [
        "get_recommendations(-4110354420726924665, cosine_sim2)"
      ],
      "outputs": [],
      "metadata": {
        "id": "2twCcse8dsH8"
      }
    },
    {
      "cell_type": "code",
      "execution_count": null,
      "source": [
        "get_recommendations(-825802007843492131\t, cosine_sim2)"
      ],
      "outputs": [],
      "metadata": {
        "id": "IEI-Y2RUd9Aa"
      }
    },
    {
      "cell_type": "code",
      "execution_count": null,
      "source": [
        "get_recommendations(-3460883803089049921, cosine_sim2)"
      ],
      "outputs": [],
      "metadata": {
        "id": "Bcqj1bX0eIAH"
      }
    },
    {
      "cell_type": "code",
      "execution_count": null,
      "source": [
        "get_recommendations(-5850390492300666299, cosine_sim2)"
      ],
      "outputs": [],
      "metadata": {
        "id": "bat24nqAeODA"
      }
    },
    {
      "cell_type": "code",
      "execution_count": null,
      "source": [
        "get_recommendations(-7165716941095296287, cosine_sim2)"
      ],
      "outputs": [],
      "metadata": {
        "id": "w6iT_RHeencL"
      }
    },
    {
      "cell_type": "code",
      "execution_count": null,
      "source": [
        "from google.colab import files\r\n",
        "\r\n",
        "df1.to_csv('articles.csv')\r\n",
        "files.download('articles.csv')"
      ],
      "outputs": [],
      "metadata": {
        "id": "lMTS8ms0mNfo"
      }
    }
  ]
}